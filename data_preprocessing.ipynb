{
 "cells": [
  {
   "cell_type": "code",
   "execution_count": 123,
   "id": "f17e71d2",
   "metadata": {},
   "outputs": [
    {
     "name": "stdout",
     "output_type": "stream",
     "text": [
      "dict_keys(['info', 'images', 'annotations', 'licenses'])\n"
     ]
    }
   ],
   "source": [
    "import json\n",
    "file = json.load(open('./printed_data_info.json'))\n",
    "print(file.keys()) #dict_keys(['info', 'images', 'annotations', 'licenses'])\n",
    "# file['info'] #{'name': 'Text in the wild Dataset', 'date_created': '2019-10-14 04:31:48'}\n",
    "# type(file['images']) #list"
   ]
  },
  {
   "cell_type": "code",
   "execution_count": 138,
   "id": "c7038139",
   "metadata": {},
   "outputs": [
    {
     "name": "stdout",
     "output_type": "stream",
     "text": [
      "{'attributes': {'font': '이롭게바탕', 'type': '단어(어절)', 'is_aug': False}, 'id': '02275800', 'image_id': '02275800', 'text': '입사하다'}\n"
     ]
    }
   ],
   "source": [
    "print((file['annotations'][600000]))"
   ]
  },
  {
   "cell_type": "code",
   "execution_count": 142,
   "id": "91c437d6",
   "metadata": {},
   "outputs": [
    {
     "name": "stdout",
     "output_type": "stream",
     "text": [
      "878100\n",
      "6054\n",
      "302750\n"
     ]
    }
   ],
   "source": [
    "print(len(file['images']))\n",
    "\n",
    "image_id = []\n",
    "image_text = []\n",
    "\n",
    "flag = False\n",
    "point = 0\n",
    "idx = 0\n",
    "sum = 0\n",
    "\n",
    "for obj in file['annotations'] :\n",
    "    if obj['text'] not in image_text and len(obj['text']) > 1:\n",
    "        image_id.append(obj['id'])\n",
    "        image_text.append(obj['text'])\n",
    "        if flag == False and obj['id'][1] == '3' :\n",
    "            point = idx\n",
    "            flag = True\n",
    "        idx += 1\n",
    "\n",
    "print(len(image_id))\n",
    "# print(image_text)\n",
    "print(sum)\n"
   ]
  },
  {
   "cell_type": "code",
   "execution_count": 159,
   "id": "69ad3d23",
   "metadata": {},
   "outputs": [
    {
     "name": "stdout",
     "output_type": "stream",
     "text": [
      "6054\n",
      "6054\n",
      "5208\n",
      "43\n",
      "7.331516352824579\n",
      "{'2': 2688, '3': 1378, '4': 1047, '5': 99, '6': 4, '7': 5, '33': 4, '36': 239, '38': 143, '37': 197, '35': 99, '39': 68, '34': 28, '20': 2, '40': 17, '24': 2, '8': 4, '41': 7, '31': 1, '27': 1, '43': 1, '19': 1, '14': 1, '42': 1, '25': 3, '18': 1, '32': 2, '17': 1, '21': 2, '10': 3, '30': 1, '16': 2, '12': 1, '22': 1}\n",
      "[2688, 1378, 1047, 99, 4, 5, 4, 0, 3, 0, 1, 0, 1, 0, 2, 1, 1, 1, 2, 2, 1, 0, 2, 3, 0, 1, 0, 0, 1, 1, 2, 4, 28, 99, 239, 197, 143, 68, 17, 7, 1]\n",
      "[2, 3, 4, 5, 6, 7, 8, 9, 10, 11, 12, 13, 14, 15, 16, 17, 18, 19, 20, 21, 22, 23, 24, 25, 26, 27, 28, 29, 30, 31, 32, 33, 34, 35, 36, 37, 38, 39, 40, 41, 42]\n"
     ]
    },
    {
     "data": {
      "image/png": "[encoded data removed]",
      "text/plain": [
       "<Figure size 640x480 with 1 Axes>"
      ]
     },
     "metadata": {},
     "output_type": "display_data"
    }
   ],
   "source": [
    "print(len(image_id))\n",
    "print(len(image_text))\n",
    "print(point)\n",
    "\n",
    "image_len_count = {}\n",
    "\n",
    "max_len = 0\n",
    "sum_len = 0\n",
    "\n",
    "for text in image_text :\n",
    "    max_len = max(max_len, len(text))\n",
    "    sum_len += len(text)\n",
    "    if image_len_count.get('{}'.format(len(text))) : \n",
    "        image_len_count['{}'.format(len(text))] += 1\n",
    "    else : \n",
    "        image_len_count['{}'.format(len(text))] = 1\n",
    "\n",
    "\n",
    "print(max_len)\n",
    "print(sum_len / len(image_text))\n",
    "print(image_len_count)\n",
    "\n",
    "import matplotlib.pyplot as plt\n",
    "\n",
    "length = []\n",
    "length_num = []\n",
    "for i in range(2, 43) : \n",
    "    if image_len_count.get('{}'.format(i)) : \n",
    "        length_num.append(image_len_count['{}'.format(i)])\n",
    "    else : \n",
    "        length_num.append(0)\n",
    "    length.append(i)\n",
    "\n",
    "print(length_num)\n",
    "print(length)\n",
    "\n",
    "plt.bar(length, length_num, align='center')\n",
    "plt.xlabel('length')\n",
    "plt.ylabel('nums')\n",
    "plt.savefig('dataset.png')\n",
    "\n",
    "    "
   ]
  },
  {
   "cell_type": "code",
   "execution_count": 108,
   "id": "895082b3",
   "metadata": {},
   "outputs": [
    {
     "name": "stdout",
     "output_type": "stream",
     "text": [
      "02236210\n"
     ]
    }
   ],
   "source": [
    "import random\n",
    "\n",
    "image_data = []\n",
    "for i in range(0, 6054) : \n",
    "    (id, text) = (image_id[i], image_text[i])\n",
    "    image_data.append((id, text))\n",
    "\n",
    "random.shuffle(image_data)\n",
    "print(image_data[0][0])"
   ]
  },
  {
   "cell_type": "code",
   "execution_count": 119,
   "id": "dfd5d559",
   "metadata": {},
   "outputs": [
    {
     "name": "stdout",
     "output_type": "stream",
     "text": [
      "/Users/sangyeob/ku2022-2/deeplearning/final_project/imagedata/printed\n"
     ]
    }
   ],
   "source": []
  },
  {
   "cell_type": "code",
   "execution_count": 120,
   "id": "6ab031aa",
   "metadata": {},
   "outputs": [],
   "source": [
    "import shutil\n",
    "\n",
    "\n",
    "f = open(\"./newdata/raw/train/gt.txt\", 'w')\n",
    "\n",
    "for i in range(1, 5001) : \n",
    "    data = \"images/image_{:04d}.png\\t{}\\n\".format(i, image_data[i][1])\n",
    "    if image_data[i][0][1] == '2' :\n",
    "        shutil.copyfile(\"./word/{}.png\".format(image_data[i][0]), \"./newdata/raw/train/images/image_{:04d}.png\".format(i))\n",
    "    else : \n",
    "        shutil.copyfile(\"./sentence/{}.png\".format(image_data[i][0]), \"./newdata/raw/train/images/image_{:04d}.png\".format(i))\n",
    "    f.write(data)\n",
    "\n",
    "f.close()\n",
    "\n",
    "f = open(\"./newdata/raw/valid/gt.txt\", 'w')\n",
    "for i in range(5001, 5526) : \n",
    "    data = \"images/image_{:04d}.png\\t{}\\n\".format(i, image_data[i][1])\n",
    "    if image_data[i][0][1] == '2' :\n",
    "        shutil.copyfile(\"./word/{}.png\".format(image_data[i][0]), \"./newdata/raw/valid/images/image_{:04d}.png\".format(i))\n",
    "    else : \n",
    "        shutil.copyfile(\"./sentence/{}.png\".format(image_data[i][0]), \"./newdata/raw/valid/images/image_{:04d}.png\".format(i))\n",
    "    f.write(data)\n",
    "f.close()\n",
    "    \n",
    "    \n",
    "f = open(\"./newdata/raw/test/gt.txt\", 'w')\n",
    "for i in range(5526, 6001) : \n",
    "    data = \"images/image_{:04d}.png\\t{}\\n\".format(i, image_data[i][1])\n",
    "    if image_data[i][0][1] == '2' :\n",
    "        shutil.copyfile(\"./word/{}.png\".format(image_data[i][0]), \"./newdata/raw/test/images/image_{:04d}.png\".format(i))\n",
    "    else : \n",
    "        shutil.copyfile(\"./sentence/{}.png\".format(image_data[i][0]), \"./newdata/raw/test/images/image_{:04d}.png\".format(i))\n",
    "    f.write(data)\n",
    "f.close()"
   ]
  },
  {
   "cell_type": "code",
   "execution_count": 102,
   "id": "6fa92f9d",
   "metadata": {},
   "outputs": [
    {
     "name": "stdout",
     "output_type": "stream",
     "text": [
      "Requirement already satisfied: fire in /Users/sangyeob/opt/anaconda3/envs/py38/lib/python3.8/site-packages (0.4.0)\n",
      "Requirement already satisfied: termcolor in /Users/sangyeob/opt/anaconda3/envs/py38/lib/python3.8/site-packages (from fire) (2.1.1)\n",
      "Requirement already satisfied: six in /Users/sangyeob/opt/anaconda3/envs/py38/lib/python3.8/site-packages (from fire) (1.12.0)\n",
      "Note: you may need to restart the kernel to use updated packages.\n"
     ]
    }
   ],
   "source": [
    "pip install fire"
   ]
  },
  {
   "cell_type": "code",
   "execution_count": 113,
   "id": "0c27f3f0",
   "metadata": {},
   "outputs": [
    {
     "name": "stdout",
     "output_type": "stream",
     "text": [
      "/Users/sangyeob/ku2022-2/deeplearning/final_project/imagedata/printed/deep-text-recognition-benchmark\n"
     ]
    }
   ],
   "source": [
    "cd deep-text-recognition-benchmark"
   ]
  },
  {
   "cell_type": "code",
   "execution_count": 106,
   "id": "85900e97",
   "metadata": {},
   "outputs": [
    {
     "name": "stdout",
     "output_type": "stream",
     "text": [
      "\u001b[31m01_printed_sentence_images.zip\u001b[m\u001b[m*  \u001b[1m\u001b[36mdeep-text-recognition-benchmark\u001b[m\u001b[m/\r\n",
      "Untitled.ipynb                   \u001b[1m\u001b[36mnewdata\u001b[m\u001b[m/\r\n",
      "\u001b[1m\u001b[36mdata\u001b[m\u001b[m/                            \u001b[31mprinted_data_info.json\u001b[m\u001b[m*\r\n",
      "\u001b[1m\u001b[36mdata2\u001b[m\u001b[m/                           \u001b[1m\u001b[36msentence\u001b[m\u001b[m/\r\n",
      "data_lmdb.ipynb                  \u001b[1m\u001b[36msyllable\u001b[m\u001b[m/\r\n",
      "data_preprocessing.ipynb         \u001b[1m\u001b[36mword\u001b[m\u001b[m/\r\n",
      "data_resize.ipynb\r\n"
     ]
    }
   ],
   "source": [
    "ls .."
   ]
  },
  {
   "cell_type": "code",
   "execution_count": 114,
   "id": "731c824c",
   "metadata": {},
   "outputs": [
    {
     "name": "stdout",
     "output_type": "stream",
     "text": [
      "Written 1000 / 5000\n",
      "Written 2000 / 5000\n",
      "Written 3000 / 5000\n",
      "Written 4000 / 5000\n",
      "Written 5000 / 5000\n",
      "Created dataset with 5000 samples\n"
     ]
    }
   ],
   "source": [
    "!python3 create_lmdb_dataset.py \\\n",
    "        --inputPath ../newdata/raw/train/ \\\n",
    "        --gtFile ../newdata/raw/train/gt.txt \\\n",
    "        --outputPath ../newdata/lmdb/train/"
   ]
  },
  {
   "cell_type": "code",
   "execution_count": 115,
   "id": "df53c685",
   "metadata": {},
   "outputs": [
    {
     "name": "stdout",
     "output_type": "stream",
     "text": [
      "Created dataset with 525 samples\r\n"
     ]
    }
   ],
   "source": [
    "!python3 create_lmdb_dataset.py \\\n",
    "        --inputPath ../newdata/raw/valid/ \\\n",
    "        --gtFile ../newdata/raw/valid/gt.txt \\\n",
    "        --outputPath ../newdata/lmdb/valid/"
   ]
  },
  {
   "cell_type": "code",
   "execution_count": 116,
   "id": "411910d6",
   "metadata": {},
   "outputs": [
    {
     "name": "stdout",
     "output_type": "stream",
     "text": [
      "Created dataset with 475 samples\r\n"
     ]
    }
   ],
   "source": [
    "!python3 create_lmdb_dataset.py \\\n",
    "        --inputPath ../newdata/raw/test/ \\\n",
    "        --gtFile ../newdata/raw/test/gt.txt \\\n",
    "        --outputPath ../newdata/lmdb/test/"
   ]
  },
  {
   "cell_type": "code",
   "execution_count": null,
   "id": "6f3ff372",
   "metadata": {},
   "outputs": [],
   "source": []
  }
 ],
 "metadata": {
  "kernelspec": {
   "display_name": "py38",
   "language": "python",
   "name": "py38"
  },
  "language_info": {
   "codemirror_mode": {
    "name": "ipython",
    "version": 3
   },
   "file_extension": ".py",
   "mimetype": "text/x-python",
   "name": "python",
   "nbconvert_exporter": "python",
   "pygments_lexer": "ipython3",
   "version": "3.8.15"
  }
 },
 "nbformat": 4,
 "nbformat_minor": 5
}
