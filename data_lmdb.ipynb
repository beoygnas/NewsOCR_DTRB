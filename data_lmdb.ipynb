{
 "cells": [
  {
   "cell_type": "code",
   "execution_count": 1,
   "id": "8914bdb6",
   "metadata": {},
   "outputs": [
    {
     "name": "stdout",
     "output_type": "stream",
     "text": [
      "\u001b[31m01_printed_sentence_images.zip\u001b[m\u001b[m*  data_preprocessing.ipynb\r\n",
      "Untitled.ipynb                   data_resize.ipynb\r\n",
      "\u001b[1m\u001b[36mdata\u001b[m\u001b[m/                            \u001b[1m\u001b[36mdeep-text-recognition-benchmark\u001b[m\u001b[m/\r\n",
      "\u001b[1m\u001b[36mdata2\u001b[m\u001b[m/                           \u001b[31mprinted_data_info.json\u001b[m\u001b[m*\r\n",
      "data_lmdb.ipynb                  \u001b[1m\u001b[36msentence\u001b[m\u001b[m/\r\n"
     ]
    }
   ],
   "source": [
    "ls"
   ]
  },
  {
   "cell_type": "code",
   "execution_count": 2,
   "id": "6dc613e8",
   "metadata": {},
   "outputs": [
    {
     "name": "stdout",
     "output_type": "stream",
     "text": [
      "/Users/sangyeob/ku2022-2/deeplearning/final_project/imagedata/printed/deep-text-recognition-benchmark\n"
     ]
    }
   ],
   "source": [
    "cd deep-text-recognition-benchmark/"
   ]
  },
  {
   "cell_type": "code",
   "execution_count": 15,
   "id": "3d4a9320",
   "metadata": {},
   "outputs": [
    {
     "name": "stdout",
     "output_type": "stream",
     "text": [
      "LICENSE.md              \u001b[31mdemo.py\u001b[m\u001b[m*                test.py\r\n",
      "README.md               \u001b[1m\u001b[36mdemo_image\u001b[m\u001b[m/             train.py\r\n",
      "create_lmdb_dataset.py  \u001b[1m\u001b[36mfigures\u001b[m\u001b[m/                utils.py\r\n",
      "dataset.py              \u001b[31mmodel.py\u001b[m\u001b[m*\r\n",
      "demo.ipynb              \u001b[1m\u001b[36mmodules\u001b[m\u001b[m/\r\n"
     ]
    }
   ],
   "source": [
    "ls"
   ]
  },
  {
   "cell_type": "code",
   "execution_count": 3,
   "id": "43094d03",
   "metadata": {},
   "outputs": [
    {
     "name": "stdout",
     "output_type": "stream",
     "text": [
      "Requirement already satisfied: fire in /Users/sangyeob/opt/anaconda3/envs/py38/lib/python3.8/site-packages (0.4.0)\n",
      "Requirement already satisfied: termcolor in /Users/sangyeob/opt/anaconda3/envs/py38/lib/python3.8/site-packages (from fire) (2.1.1)\n",
      "Requirement already satisfied: six in /Users/sangyeob/opt/anaconda3/envs/py38/lib/python3.8/site-packages (from fire) (1.12.0)\n",
      "Note: you may need to restart the kernel to use updated packages.\n"
     ]
    }
   ],
   "source": [
    "pip install fire"
   ]
  },
  {
   "cell_type": "code",
   "execution_count": 4,
   "id": "62c4f3ce",
   "metadata": {},
   "outputs": [
    {
     "name": "stdout",
     "output_type": "stream",
     "text": [
      "Written 1000 / 10100\n",
      "Written 2000 / 10100\n",
      "Written 3000 / 10100\n",
      "Written 4000 / 10100\n",
      "Written 5000 / 10100\n",
      "Written 6000 / 10100\n",
      "Written 7000 / 10100\n",
      "Written 8000 / 10100\n",
      "Written 9000 / 10100\n",
      "Written 10000 / 10100\n",
      "Created dataset with 10100 samples\n"
     ]
    }
   ],
   "source": [
    "!python3 create_lmdb_dataset.py \\\n",
    "        --inputPath ../data/raw/train/ \\\n",
    "        --gtFile ../data/raw/train/gt.txt \\\n",
    "        --outputPath ../data/lmdb/train/"
   ]
  },
  {
   "cell_type": "code",
   "execution_count": 6,
   "id": "65ad93d7",
   "metadata": {},
   "outputs": [
    {
     "name": "stdout",
     "output_type": "stream",
     "text": [
      "Written 1000 / 1010\r\n",
      "Created dataset with 1010 samples\r\n"
     ]
    }
   ],
   "source": [
    "!python3 create_lmdb_dataset.py \\\n",
    "        --inputPath ../data/raw/valid/ \\\n",
    "        --gtFile ../data/raw/valid/gt.txt \\\n",
    "        --outputPath ../data/lmdb/valid/"
   ]
  },
  {
   "cell_type": "code",
   "execution_count": 7,
   "id": "4d43a5cc",
   "metadata": {},
   "outputs": [
    {
     "name": "stdout",
     "output_type": "stream",
     "text": [
      "Written 1000 / 1000\r\n",
      "Created dataset with 1000 samples\r\n"
     ]
    }
   ],
   "source": [
    "!python3 create_lmdb_dataset.py \\\n",
    "        --inputPath ../data/raw/test/ \\\n",
    "        --gtFile ../data/raw/test/gt.txt \\\n",
    "        --outputPath ../data/lmdb/test/"
   ]
  },
  {
   "cell_type": "code",
   "execution_count": null,
   "id": "42a4cd48",
   "metadata": {},
   "outputs": [],
   "source": []
  }
 ],
 "metadata": {
  "kernelspec": {
   "display_name": "py38",
   "language": "python",
   "name": "py38"
  },
  "language_info": {
   "codemirror_mode": {
    "name": "ipython",
    "version": 3
   },
   "file_extension": ".py",
   "mimetype": "text/x-python",
   "name": "python",
   "nbconvert_exporter": "python",
   "pygments_lexer": "ipython3",
   "version": "3.8.15"
  }
 },
 "nbformat": 4,
 "nbformat_minor": 5
}
